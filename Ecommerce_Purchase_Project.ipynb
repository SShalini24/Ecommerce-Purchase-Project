{
  "nbformat": 4,
  "nbformat_minor": 0,
  "metadata": {
    "colab": {
      "provenance": [],
      "authorship_tag": "ABX9TyPpmnHWs1JjKSZPbzqcLqGQ",
      "include_colab_link": true
    },
    "kernelspec": {
      "name": "python3",
      "display_name": "Python 3"
    },
    "language_info": {
      "name": "python"
    }
  },
  "cells": [
    {
      "cell_type": "markdown",
      "metadata": {
        "id": "view-in-github",
        "colab_type": "text"
      },
      "source": [
        "<a href=\"https://colab.research.google.com/github/SShalini24/Ecommerce-Purchase-Project/blob/main/Ecommerce_Purchase_Project.ipynb\" target=\"_parent\"><img src=\"https://colab.research.google.com/assets/colab-badge.svg\" alt=\"Open In Colab\"/></a>"
      ]
    },
    {
      "cell_type": "code",
      "execution_count": 1,
      "metadata": {
        "id": "25F1RL-HAicg"
      },
      "outputs": [],
      "source": [
        "import pandas as pd"
      ]
    },
    {
      "cell_type": "code",
      "source": [
        "data = pd.read_csv('/content/Ecommerce Purchases.zip')\n",
        "data"
      ],
      "metadata": {
        "colab": {
          "base_uri": "https://localhost:8080/",
          "height": 1000
        },
        "id": "YxpcO88vAma9",
        "outputId": "bf13c655-6cf0-4f0b-b441-1bee24ad0c57"
      },
      "execution_count": 3,
      "outputs": [
        {
          "output_type": "execute_result",
          "data": {
            "text/plain": [
              "                                                Address    Lot AM or PM  \\\n",
              "0     16629 Pace Camp Apt. 448\\nAlexisborough, NE 77...  46 in       PM   \n",
              "1     9374 Jasmine Spurs Suite 508\\nSouth John, TN 8...  28 rn       PM   \n",
              "2                      Unit 0065 Box 5052\\nDPO AP 27450  94 vE       PM   \n",
              "3                 7780 Julia Fords\\nNew Stacy, WA 45798  36 vm       PM   \n",
              "4     23012 Munoz Drive Suite 337\\nNew Cynthia, TX 5...  20 IE       AM   \n",
              "...                                                 ...    ...      ...   \n",
              "9995      966 Castaneda Locks\\nWest Juliafurt, CO 96415  92 XI       PM   \n",
              "9996  832 Curtis Dam Suite 785\\nNorth Edwardburgh, T...  41 JY       AM   \n",
              "9997              Unit 4434 Box 6343\\nDPO AE 28026-0283  74 Zh       AM   \n",
              "9998               0096 English Rest\\nRoystad, IA 12457  74 cL       PM   \n",
              "9999     40674 Barrett Stravenue\\nGrimesville, WI 79682  64 Hr       AM   \n",
              "\n",
              "                                           Browser Info  \\\n",
              "0     Opera/9.56.(X11; Linux x86_64; sl-SI) Presto/2...   \n",
              "1     Opera/8.93.(Windows 98; Win 9x 4.90; en-US) Pr...   \n",
              "2     Mozilla/5.0 (compatible; MSIE 9.0; Windows NT ...   \n",
              "3     Mozilla/5.0 (Macintosh; Intel Mac OS X 10_8_0 ...   \n",
              "4     Opera/9.58.(X11; Linux x86_64; it-IT) Presto/2...   \n",
              "...                                                 ...   \n",
              "9995  Mozilla/5.0 (Windows NT 5.1) AppleWebKit/5352 ...   \n",
              "9996  Mozilla/5.0 (compatible; MSIE 9.0; Windows NT ...   \n",
              "9997  Mozilla/5.0 (Macintosh; U; Intel Mac OS X 10_7...   \n",
              "9998  Mozilla/5.0 (Macintosh; Intel Mac OS X 10_8_8;...   \n",
              "9999  Mozilla/5.0 (X11; Linux i686; rv:1.9.5.20) Gec...   \n",
              "\n",
              "                              Company       Credit Card CC Exp Date  \\\n",
              "0                     Martinez-Herman  6011929061123406       02/20   \n",
              "1     Fletcher, Richards and Whitaker  3337758169645356       11/18   \n",
              "2          Simpson, Williams and Pham      675957666125       08/19   \n",
              "3     Williams, Marshall and Buchanan  6011578504430710       02/24   \n",
              "4           Brown, Watson and Andrews  6011456623207998       10/25   \n",
              "...                               ...               ...         ...   \n",
              "9995                    Randall-Sloan   342945015358701       03/22   \n",
              "9996         Hale, Collins and Wilson   210033169205009       07/25   \n",
              "9997                     Anderson Ltd  6011539787356311       05/21   \n",
              "9998                         Cook Inc   180003348082930       11/17   \n",
              "9999                       Greene Inc  4139972901927273       02/19   \n",
              "\n",
              "      CC Security Code                  CC Provider  \\\n",
              "0                  900                 JCB 16 digit   \n",
              "1                  561                   Mastercard   \n",
              "2                  699                 JCB 16 digit   \n",
              "3                  384                     Discover   \n",
              "4                  678  Diners Club / Carte Blanche   \n",
              "...                ...                          ...   \n",
              "9995               838                 JCB 15 digit   \n",
              "9996               207                 JCB 16 digit   \n",
              "9997                 1                VISA 16 digit   \n",
              "9998               987             American Express   \n",
              "9999               302                 JCB 15 digit   \n",
              "\n",
              "                               Email                                     Job  \\\n",
              "0                  pdunlap@yahoo.com  Scientist, product/process development   \n",
              "1                 anthony41@reed.com                       Drilling engineer   \n",
              "2     amymiller@morales-harrison.com                Customer service manager   \n",
              "3        brent16@olson-robinson.info                       Drilling engineer   \n",
              "4        christopherwright@gmail.com                             Fine artist   \n",
              "...                              ...                                     ...   \n",
              "9995          iscott@wade-garner.com                              Printmaker   \n",
              "9996              mary85@hotmail.com                         Energy engineer   \n",
              "9997               tyler16@gmail.com                      Veterinary surgeon   \n",
              "9998         elizabethmoore@reid.net                Local government officer   \n",
              "9999           rachelford@vaughn.com                  Embryologist, clinical   \n",
              "\n",
              "           IP Address Language  Purchase Price  \n",
              "0     149.146.147.205       el           98.14  \n",
              "1        15.160.41.51       fr           70.73  \n",
              "2      132.207.160.22       de            0.95  \n",
              "3        30.250.74.19       es           78.04  \n",
              "4        24.140.33.94       es           77.82  \n",
              "...               ...      ...             ...  \n",
              "9995    29.73.197.114       it           82.21  \n",
              "9996   121.133.168.51       pt           25.63  \n",
              "9997    156.210.0.254       el           83.98  \n",
              "9998     55.78.26.143       es           38.84  \n",
              "9999  176.119.198.199       el           67.59  \n",
              "\n",
              "[10000 rows x 14 columns]"
            ],
            "text/html": [
              "\n",
              "\n",
              "  <div id=\"df-fff31b7a-38e1-43b8-a42d-b965508d37bc\">\n",
              "    <div class=\"colab-df-container\">\n",
              "      <div>\n",
              "<style scoped>\n",
              "    .dataframe tbody tr th:only-of-type {\n",
              "        vertical-align: middle;\n",
              "    }\n",
              "\n",
              "    .dataframe tbody tr th {\n",
              "        vertical-align: top;\n",
              "    }\n",
              "\n",
              "    .dataframe thead th {\n",
              "        text-align: right;\n",
              "    }\n",
              "</style>\n",
              "<table border=\"1\" class=\"dataframe\">\n",
              "  <thead>\n",
              "    <tr style=\"text-align: right;\">\n",
              "      <th></th>\n",
              "      <th>Address</th>\n",
              "      <th>Lot</th>\n",
              "      <th>AM or PM</th>\n",
              "      <th>Browser Info</th>\n",
              "      <th>Company</th>\n",
              "      <th>Credit Card</th>\n",
              "      <th>CC Exp Date</th>\n",
              "      <th>CC Security Code</th>\n",
              "      <th>CC Provider</th>\n",
              "      <th>Email</th>\n",
              "      <th>Job</th>\n",
              "      <th>IP Address</th>\n",
              "      <th>Language</th>\n",
              "      <th>Purchase Price</th>\n",
              "    </tr>\n",
              "  </thead>\n",
              "  <tbody>\n",
              "    <tr>\n",
              "      <th>0</th>\n",
              "      <td>16629 Pace Camp Apt. 448\\nAlexisborough, NE 77...</td>\n",
              "      <td>46 in</td>\n",
              "      <td>PM</td>\n",
              "      <td>Opera/9.56.(X11; Linux x86_64; sl-SI) Presto/2...</td>\n",
              "      <td>Martinez-Herman</td>\n",
              "      <td>6011929061123406</td>\n",
              "      <td>02/20</td>\n",
              "      <td>900</td>\n",
              "      <td>JCB 16 digit</td>\n",
              "      <td>pdunlap@yahoo.com</td>\n",
              "      <td>Scientist, product/process development</td>\n",
              "      <td>149.146.147.205</td>\n",
              "      <td>el</td>\n",
              "      <td>98.14</td>\n",
              "    </tr>\n",
              "    <tr>\n",
              "      <th>1</th>\n",
              "      <td>9374 Jasmine Spurs Suite 508\\nSouth John, TN 8...</td>\n",
              "      <td>28 rn</td>\n",
              "      <td>PM</td>\n",
              "      <td>Opera/8.93.(Windows 98; Win 9x 4.90; en-US) Pr...</td>\n",
              "      <td>Fletcher, Richards and Whitaker</td>\n",
              "      <td>3337758169645356</td>\n",
              "      <td>11/18</td>\n",
              "      <td>561</td>\n",
              "      <td>Mastercard</td>\n",
              "      <td>anthony41@reed.com</td>\n",
              "      <td>Drilling engineer</td>\n",
              "      <td>15.160.41.51</td>\n",
              "      <td>fr</td>\n",
              "      <td>70.73</td>\n",
              "    </tr>\n",
              "    <tr>\n",
              "      <th>2</th>\n",
              "      <td>Unit 0065 Box 5052\\nDPO AP 27450</td>\n",
              "      <td>94 vE</td>\n",
              "      <td>PM</td>\n",
              "      <td>Mozilla/5.0 (compatible; MSIE 9.0; Windows NT ...</td>\n",
              "      <td>Simpson, Williams and Pham</td>\n",
              "      <td>675957666125</td>\n",
              "      <td>08/19</td>\n",
              "      <td>699</td>\n",
              "      <td>JCB 16 digit</td>\n",
              "      <td>amymiller@morales-harrison.com</td>\n",
              "      <td>Customer service manager</td>\n",
              "      <td>132.207.160.22</td>\n",
              "      <td>de</td>\n",
              "      <td>0.95</td>\n",
              "    </tr>\n",
              "    <tr>\n",
              "      <th>3</th>\n",
              "      <td>7780 Julia Fords\\nNew Stacy, WA 45798</td>\n",
              "      <td>36 vm</td>\n",
              "      <td>PM</td>\n",
              "      <td>Mozilla/5.0 (Macintosh; Intel Mac OS X 10_8_0 ...</td>\n",
              "      <td>Williams, Marshall and Buchanan</td>\n",
              "      <td>6011578504430710</td>\n",
              "      <td>02/24</td>\n",
              "      <td>384</td>\n",
              "      <td>Discover</td>\n",
              "      <td>brent16@olson-robinson.info</td>\n",
              "      <td>Drilling engineer</td>\n",
              "      <td>30.250.74.19</td>\n",
              "      <td>es</td>\n",
              "      <td>78.04</td>\n",
              "    </tr>\n",
              "    <tr>\n",
              "      <th>4</th>\n",
              "      <td>23012 Munoz Drive Suite 337\\nNew Cynthia, TX 5...</td>\n",
              "      <td>20 IE</td>\n",
              "      <td>AM</td>\n",
              "      <td>Opera/9.58.(X11; Linux x86_64; it-IT) Presto/2...</td>\n",
              "      <td>Brown, Watson and Andrews</td>\n",
              "      <td>6011456623207998</td>\n",
              "      <td>10/25</td>\n",
              "      <td>678</td>\n",
              "      <td>Diners Club / Carte Blanche</td>\n",
              "      <td>christopherwright@gmail.com</td>\n",
              "      <td>Fine artist</td>\n",
              "      <td>24.140.33.94</td>\n",
              "      <td>es</td>\n",
              "      <td>77.82</td>\n",
              "    </tr>\n",
              "    <tr>\n",
              "      <th>...</th>\n",
              "      <td>...</td>\n",
              "      <td>...</td>\n",
              "      <td>...</td>\n",
              "      <td>...</td>\n",
              "      <td>...</td>\n",
              "      <td>...</td>\n",
              "      <td>...</td>\n",
              "      <td>...</td>\n",
              "      <td>...</td>\n",
              "      <td>...</td>\n",
              "      <td>...</td>\n",
              "      <td>...</td>\n",
              "      <td>...</td>\n",
              "      <td>...</td>\n",
              "    </tr>\n",
              "    <tr>\n",
              "      <th>9995</th>\n",
              "      <td>966 Castaneda Locks\\nWest Juliafurt, CO 96415</td>\n",
              "      <td>92 XI</td>\n",
              "      <td>PM</td>\n",
              "      <td>Mozilla/5.0 (Windows NT 5.1) AppleWebKit/5352 ...</td>\n",
              "      <td>Randall-Sloan</td>\n",
              "      <td>342945015358701</td>\n",
              "      <td>03/22</td>\n",
              "      <td>838</td>\n",
              "      <td>JCB 15 digit</td>\n",
              "      <td>iscott@wade-garner.com</td>\n",
              "      <td>Printmaker</td>\n",
              "      <td>29.73.197.114</td>\n",
              "      <td>it</td>\n",
              "      <td>82.21</td>\n",
              "    </tr>\n",
              "    <tr>\n",
              "      <th>9996</th>\n",
              "      <td>832 Curtis Dam Suite 785\\nNorth Edwardburgh, T...</td>\n",
              "      <td>41 JY</td>\n",
              "      <td>AM</td>\n",
              "      <td>Mozilla/5.0 (compatible; MSIE 9.0; Windows NT ...</td>\n",
              "      <td>Hale, Collins and Wilson</td>\n",
              "      <td>210033169205009</td>\n",
              "      <td>07/25</td>\n",
              "      <td>207</td>\n",
              "      <td>JCB 16 digit</td>\n",
              "      <td>mary85@hotmail.com</td>\n",
              "      <td>Energy engineer</td>\n",
              "      <td>121.133.168.51</td>\n",
              "      <td>pt</td>\n",
              "      <td>25.63</td>\n",
              "    </tr>\n",
              "    <tr>\n",
              "      <th>9997</th>\n",
              "      <td>Unit 4434 Box 6343\\nDPO AE 28026-0283</td>\n",
              "      <td>74 Zh</td>\n",
              "      <td>AM</td>\n",
              "      <td>Mozilla/5.0 (Macintosh; U; Intel Mac OS X 10_7...</td>\n",
              "      <td>Anderson Ltd</td>\n",
              "      <td>6011539787356311</td>\n",
              "      <td>05/21</td>\n",
              "      <td>1</td>\n",
              "      <td>VISA 16 digit</td>\n",
              "      <td>tyler16@gmail.com</td>\n",
              "      <td>Veterinary surgeon</td>\n",
              "      <td>156.210.0.254</td>\n",
              "      <td>el</td>\n",
              "      <td>83.98</td>\n",
              "    </tr>\n",
              "    <tr>\n",
              "      <th>9998</th>\n",
              "      <td>0096 English Rest\\nRoystad, IA 12457</td>\n",
              "      <td>74 cL</td>\n",
              "      <td>PM</td>\n",
              "      <td>Mozilla/5.0 (Macintosh; Intel Mac OS X 10_8_8;...</td>\n",
              "      <td>Cook Inc</td>\n",
              "      <td>180003348082930</td>\n",
              "      <td>11/17</td>\n",
              "      <td>987</td>\n",
              "      <td>American Express</td>\n",
              "      <td>elizabethmoore@reid.net</td>\n",
              "      <td>Local government officer</td>\n",
              "      <td>55.78.26.143</td>\n",
              "      <td>es</td>\n",
              "      <td>38.84</td>\n",
              "    </tr>\n",
              "    <tr>\n",
              "      <th>9999</th>\n",
              "      <td>40674 Barrett Stravenue\\nGrimesville, WI 79682</td>\n",
              "      <td>64 Hr</td>\n",
              "      <td>AM</td>\n",
              "      <td>Mozilla/5.0 (X11; Linux i686; rv:1.9.5.20) Gec...</td>\n",
              "      <td>Greene Inc</td>\n",
              "      <td>4139972901927273</td>\n",
              "      <td>02/19</td>\n",
              "      <td>302</td>\n",
              "      <td>JCB 15 digit</td>\n",
              "      <td>rachelford@vaughn.com</td>\n",
              "      <td>Embryologist, clinical</td>\n",
              "      <td>176.119.198.199</td>\n",
              "      <td>el</td>\n",
              "      <td>67.59</td>\n",
              "    </tr>\n",
              "  </tbody>\n",
              "</table>\n",
              "<p>10000 rows × 14 columns</p>\n",
              "</div>\n",
              "      <button class=\"colab-df-convert\" onclick=\"convertToInteractive('df-fff31b7a-38e1-43b8-a42d-b965508d37bc')\"\n",
              "              title=\"Convert this dataframe to an interactive table.\"\n",
              "              style=\"display:none;\">\n",
              "\n",
              "  <svg xmlns=\"http://www.w3.org/2000/svg\" height=\"24px\"viewBox=\"0 0 24 24\"\n",
              "       width=\"24px\">\n",
              "    <path d=\"M0 0h24v24H0V0z\" fill=\"none\"/>\n",
              "    <path d=\"M18.56 5.44l.94 2.06.94-2.06 2.06-.94-2.06-.94-.94-2.06-.94 2.06-2.06.94zm-11 1L8.5 8.5l.94-2.06 2.06-.94-2.06-.94L8.5 2.5l-.94 2.06-2.06.94zm10 10l.94 2.06.94-2.06 2.06-.94-2.06-.94-.94-2.06-.94 2.06-2.06.94z\"/><path d=\"M17.41 7.96l-1.37-1.37c-.4-.4-.92-.59-1.43-.59-.52 0-1.04.2-1.43.59L10.3 9.45l-7.72 7.72c-.78.78-.78 2.05 0 2.83L4 21.41c.39.39.9.59 1.41.59.51 0 1.02-.2 1.41-.59l7.78-7.78 2.81-2.81c.8-.78.8-2.07 0-2.86zM5.41 20L4 18.59l7.72-7.72 1.47 1.35L5.41 20z\"/>\n",
              "  </svg>\n",
              "      </button>\n",
              "\n",
              "\n",
              "\n",
              "    <div id=\"df-93a8e9db-1a9a-40cc-aa79-32e9e64ea880\">\n",
              "      <button class=\"colab-df-quickchart\" onclick=\"quickchart('df-93a8e9db-1a9a-40cc-aa79-32e9e64ea880')\"\n",
              "              title=\"Suggest charts.\"\n",
              "              style=\"display:none;\">\n",
              "\n",
              "<svg xmlns=\"http://www.w3.org/2000/svg\" height=\"24px\"viewBox=\"0 0 24 24\"\n",
              "     width=\"24px\">\n",
              "    <g>\n",
              "        <path d=\"M19 3H5c-1.1 0-2 .9-2 2v14c0 1.1.9 2 2 2h14c1.1 0 2-.9 2-2V5c0-1.1-.9-2-2-2zM9 17H7v-7h2v7zm4 0h-2V7h2v10zm4 0h-2v-4h2v4z\"/>\n",
              "    </g>\n",
              "</svg>\n",
              "      </button>\n",
              "    </div>\n",
              "\n",
              "<style>\n",
              "  .colab-df-quickchart {\n",
              "    background-color: #E8F0FE;\n",
              "    border: none;\n",
              "    border-radius: 50%;\n",
              "    cursor: pointer;\n",
              "    display: none;\n",
              "    fill: #1967D2;\n",
              "    height: 32px;\n",
              "    padding: 0 0 0 0;\n",
              "    width: 32px;\n",
              "  }\n",
              "\n",
              "  .colab-df-quickchart:hover {\n",
              "    background-color: #E2EBFA;\n",
              "    box-shadow: 0px 1px 2px rgba(60, 64, 67, 0.3), 0px 1px 3px 1px rgba(60, 64, 67, 0.15);\n",
              "    fill: #174EA6;\n",
              "  }\n",
              "\n",
              "  [theme=dark] .colab-df-quickchart {\n",
              "    background-color: #3B4455;\n",
              "    fill: #D2E3FC;\n",
              "  }\n",
              "\n",
              "  [theme=dark] .colab-df-quickchart:hover {\n",
              "    background-color: #434B5C;\n",
              "    box-shadow: 0px 1px 3px 1px rgba(0, 0, 0, 0.15);\n",
              "    filter: drop-shadow(0px 1px 2px rgba(0, 0, 0, 0.3));\n",
              "    fill: #FFFFFF;\n",
              "  }\n",
              "</style>\n",
              "\n",
              "    <script>\n",
              "      async function quickchart(key) {\n",
              "        const containerElement = document.querySelector('#' + key);\n",
              "        const charts = await google.colab.kernel.invokeFunction(\n",
              "            'suggestCharts', [key], {});\n",
              "      }\n",
              "    </script>\n",
              "\n",
              "      <script>\n",
              "\n",
              "function displayQuickchartButton(domScope) {\n",
              "  let quickchartButtonEl =\n",
              "    domScope.querySelector('#df-93a8e9db-1a9a-40cc-aa79-32e9e64ea880 button.colab-df-quickchart');\n",
              "  quickchartButtonEl.style.display =\n",
              "    google.colab.kernel.accessAllowed ? 'block' : 'none';\n",
              "}\n",
              "\n",
              "        displayQuickchartButton(document);\n",
              "      </script>\n",
              "      <style>\n",
              "    .colab-df-container {\n",
              "      display:flex;\n",
              "      flex-wrap:wrap;\n",
              "      gap: 12px;\n",
              "    }\n",
              "\n",
              "    .colab-df-convert {\n",
              "      background-color: #E8F0FE;\n",
              "      border: none;\n",
              "      border-radius: 50%;\n",
              "      cursor: pointer;\n",
              "      display: none;\n",
              "      fill: #1967D2;\n",
              "      height: 32px;\n",
              "      padding: 0 0 0 0;\n",
              "      width: 32px;\n",
              "    }\n",
              "\n",
              "    .colab-df-convert:hover {\n",
              "      background-color: #E2EBFA;\n",
              "      box-shadow: 0px 1px 2px rgba(60, 64, 67, 0.3), 0px 1px 3px 1px rgba(60, 64, 67, 0.15);\n",
              "      fill: #174EA6;\n",
              "    }\n",
              "\n",
              "    [theme=dark] .colab-df-convert {\n",
              "      background-color: #3B4455;\n",
              "      fill: #D2E3FC;\n",
              "    }\n",
              "\n",
              "    [theme=dark] .colab-df-convert:hover {\n",
              "      background-color: #434B5C;\n",
              "      box-shadow: 0px 1px 3px 1px rgba(0, 0, 0, 0.15);\n",
              "      filter: drop-shadow(0px 1px 2px rgba(0, 0, 0, 0.3));\n",
              "      fill: #FFFFFF;\n",
              "    }\n",
              "  </style>\n",
              "\n",
              "      <script>\n",
              "        const buttonEl =\n",
              "          document.querySelector('#df-fff31b7a-38e1-43b8-a42d-b965508d37bc button.colab-df-convert');\n",
              "        buttonEl.style.display =\n",
              "          google.colab.kernel.accessAllowed ? 'block' : 'none';\n",
              "\n",
              "        async function convertToInteractive(key) {\n",
              "          const element = document.querySelector('#df-fff31b7a-38e1-43b8-a42d-b965508d37bc');\n",
              "          const dataTable =\n",
              "            await google.colab.kernel.invokeFunction('convertToInteractive',\n",
              "                                                     [key], {});\n",
              "          if (!dataTable) return;\n",
              "\n",
              "          const docLinkHtml = 'Like what you see? Visit the ' +\n",
              "            '<a target=\"_blank\" href=https://colab.research.google.com/notebooks/data_table.ipynb>data table notebook</a>'\n",
              "            + ' to learn more about interactive tables.';\n",
              "          element.innerHTML = '';\n",
              "          dataTable['output_type'] = 'display_data';\n",
              "          await google.colab.output.renderOutput(dataTable, element);\n",
              "          const docLink = document.createElement('div');\n",
              "          docLink.innerHTML = docLinkHtml;\n",
              "          element.appendChild(docLink);\n",
              "        }\n",
              "      </script>\n",
              "    </div>\n",
              "  </div>\n"
            ]
          },
          "metadata": {},
          "execution_count": 3
        }
      ]
    },
    {
      "cell_type": "markdown",
      "source": [
        "**Display Top 10 rows of the dataset**"
      ],
      "metadata": {
        "id": "E8ZCsicrBXyY"
      }
    },
    {
      "cell_type": "code",
      "source": [
        "data.head(10)"
      ],
      "metadata": {
        "colab": {
          "base_uri": "https://localhost:8080/",
          "height": 895
        },
        "id": "5J8pM1DHAmdD",
        "outputId": "6c43854a-d565-4d35-ce0e-631b1473d4f1"
      },
      "execution_count": 4,
      "outputs": [
        {
          "output_type": "execute_result",
          "data": {
            "text/plain": [
              "                                             Address    Lot AM or PM  \\\n",
              "0  16629 Pace Camp Apt. 448\\nAlexisborough, NE 77...  46 in       PM   \n",
              "1  9374 Jasmine Spurs Suite 508\\nSouth John, TN 8...  28 rn       PM   \n",
              "2                   Unit 0065 Box 5052\\nDPO AP 27450  94 vE       PM   \n",
              "3              7780 Julia Fords\\nNew Stacy, WA 45798  36 vm       PM   \n",
              "4  23012 Munoz Drive Suite 337\\nNew Cynthia, TX 5...  20 IE       AM   \n",
              "5  7502 Powell Mission Apt. 768\\nTravisland, VA 3...  21 XT       PM   \n",
              "6     93971 Conway Causeway\\nAndersonburgh, AZ 75107  96 Xt       AM   \n",
              "7  260 Rachel Plains Suite 366\\nCastroberg, WV 24...  96 pG       PM   \n",
              "8            2129 Dylan Burg\\nNew Michelle, ME 28650  45 JN       PM   \n",
              "9    3795 Dawson Extensions\\nLake Tinafort, ID 88739  15 Ug       AM   \n",
              "\n",
              "                                        Browser Info  \\\n",
              "0  Opera/9.56.(X11; Linux x86_64; sl-SI) Presto/2...   \n",
              "1  Opera/8.93.(Windows 98; Win 9x 4.90; en-US) Pr...   \n",
              "2  Mozilla/5.0 (compatible; MSIE 9.0; Windows NT ...   \n",
              "3  Mozilla/5.0 (Macintosh; Intel Mac OS X 10_8_0 ...   \n",
              "4  Opera/9.58.(X11; Linux x86_64; it-IT) Presto/2...   \n",
              "5  Mozilla/5.0 (Macintosh; U; PPC Mac OS X 10_8_5...   \n",
              "6  Mozilla/5.0 (compatible; MSIE 7.0; Windows NT ...   \n",
              "7  Mozilla/5.0 (X11; Linux i686) AppleWebKit/5350...   \n",
              "8  Mozilla/5.0 (Macintosh; U; Intel Mac OS X 10_7...   \n",
              "9  Mozilla/5.0 (X11; Linux i686; rv:1.9.7.20) Gec...   \n",
              "\n",
              "                           Company       Credit Card CC Exp Date  \\\n",
              "0                  Martinez-Herman  6011929061123406       02/20   \n",
              "1  Fletcher, Richards and Whitaker  3337758169645356       11/18   \n",
              "2       Simpson, Williams and Pham      675957666125       08/19   \n",
              "3  Williams, Marshall and Buchanan  6011578504430710       02/24   \n",
              "4        Brown, Watson and Andrews  6011456623207998       10/25   \n",
              "5                   Silva-Anderson    30246185196287       07/25   \n",
              "6                  Gibson and Sons  6011398782655569       07/24   \n",
              "7                 Marshall-Collins      561252141909       06/25   \n",
              "8                Galloway and Sons   180041795790001       04/24   \n",
              "9     Rivera, Buchanan and Ramirez     4396283918371       01/17   \n",
              "\n",
              "   CC Security Code                  CC Provider  \\\n",
              "0               900                 JCB 16 digit   \n",
              "1               561                   Mastercard   \n",
              "2               699                 JCB 16 digit   \n",
              "3               384                     Discover   \n",
              "4               678  Diners Club / Carte Blanche   \n",
              "5              7169                     Discover   \n",
              "6               714                VISA 16 digit   \n",
              "7               256                VISA 13 digit   \n",
              "8               899                 JCB 16 digit   \n",
              "9               931             American Express   \n",
              "\n",
              "                            Email                                     Job  \\\n",
              "0               pdunlap@yahoo.com  Scientist, product/process development   \n",
              "1              anthony41@reed.com                       Drilling engineer   \n",
              "2  amymiller@morales-harrison.com                Customer service manager   \n",
              "3     brent16@olson-robinson.info                       Drilling engineer   \n",
              "4     christopherwright@gmail.com                             Fine artist   \n",
              "5               ynguyen@gmail.com                       Fish farm manager   \n",
              "6              olivia04@yahoo.com                                  Dancer   \n",
              "7            phillip48@parks.info                         Event organiser   \n",
              "8            kdavis@rasmussen.com                       Financial manager   \n",
              "9        qcoleman@hunt-huerta.com                      Forensic scientist   \n",
              "\n",
              "        IP Address Language  Purchase Price  \n",
              "0  149.146.147.205       el           98.14  \n",
              "1     15.160.41.51       fr           70.73  \n",
              "2   132.207.160.22       de            0.95  \n",
              "3     30.250.74.19       es           78.04  \n",
              "4     24.140.33.94       es           77.82  \n",
              "5    55.96.152.147       ru           25.15  \n",
              "6   127.252.144.18       de           88.56  \n",
              "7   224.247.97.150       pt           44.25  \n",
              "8  146.234.201.229       ru           59.54  \n",
              "9    236.198.199.8       zh           95.63  "
            ],
            "text/html": [
              "\n",
              "\n",
              "  <div id=\"df-1c87f59c-285b-4a1e-b8c8-739c1c261bd9\">\n",
              "    <div class=\"colab-df-container\">\n",
              "      <div>\n",
              "<style scoped>\n",
              "    .dataframe tbody tr th:only-of-type {\n",
              "        vertical-align: middle;\n",
              "    }\n",
              "\n",
              "    .dataframe tbody tr th {\n",
              "        vertical-align: top;\n",
              "    }\n",
              "\n",
              "    .dataframe thead th {\n",
              "        text-align: right;\n",
              "    }\n",
              "</style>\n",
              "<table border=\"1\" class=\"dataframe\">\n",
              "  <thead>\n",
              "    <tr style=\"text-align: right;\">\n",
              "      <th></th>\n",
              "      <th>Address</th>\n",
              "      <th>Lot</th>\n",
              "      <th>AM or PM</th>\n",
              "      <th>Browser Info</th>\n",
              "      <th>Company</th>\n",
              "      <th>Credit Card</th>\n",
              "      <th>CC Exp Date</th>\n",
              "      <th>CC Security Code</th>\n",
              "      <th>CC Provider</th>\n",
              "      <th>Email</th>\n",
              "      <th>Job</th>\n",
              "      <th>IP Address</th>\n",
              "      <th>Language</th>\n",
              "      <th>Purchase Price</th>\n",
              "    </tr>\n",
              "  </thead>\n",
              "  <tbody>\n",
              "    <tr>\n",
              "      <th>0</th>\n",
              "      <td>16629 Pace Camp Apt. 448\\nAlexisborough, NE 77...</td>\n",
              "      <td>46 in</td>\n",
              "      <td>PM</td>\n",
              "      <td>Opera/9.56.(X11; Linux x86_64; sl-SI) Presto/2...</td>\n",
              "      <td>Martinez-Herman</td>\n",
              "      <td>6011929061123406</td>\n",
              "      <td>02/20</td>\n",
              "      <td>900</td>\n",
              "      <td>JCB 16 digit</td>\n",
              "      <td>pdunlap@yahoo.com</td>\n",
              "      <td>Scientist, product/process development</td>\n",
              "      <td>149.146.147.205</td>\n",
              "      <td>el</td>\n",
              "      <td>98.14</td>\n",
              "    </tr>\n",
              "    <tr>\n",
              "      <th>1</th>\n",
              "      <td>9374 Jasmine Spurs Suite 508\\nSouth John, TN 8...</td>\n",
              "      <td>28 rn</td>\n",
              "      <td>PM</td>\n",
              "      <td>Opera/8.93.(Windows 98; Win 9x 4.90; en-US) Pr...</td>\n",
              "      <td>Fletcher, Richards and Whitaker</td>\n",
              "      <td>3337758169645356</td>\n",
              "      <td>11/18</td>\n",
              "      <td>561</td>\n",
              "      <td>Mastercard</td>\n",
              "      <td>anthony41@reed.com</td>\n",
              "      <td>Drilling engineer</td>\n",
              "      <td>15.160.41.51</td>\n",
              "      <td>fr</td>\n",
              "      <td>70.73</td>\n",
              "    </tr>\n",
              "    <tr>\n",
              "      <th>2</th>\n",
              "      <td>Unit 0065 Box 5052\\nDPO AP 27450</td>\n",
              "      <td>94 vE</td>\n",
              "      <td>PM</td>\n",
              "      <td>Mozilla/5.0 (compatible; MSIE 9.0; Windows NT ...</td>\n",
              "      <td>Simpson, Williams and Pham</td>\n",
              "      <td>675957666125</td>\n",
              "      <td>08/19</td>\n",
              "      <td>699</td>\n",
              "      <td>JCB 16 digit</td>\n",
              "      <td>amymiller@morales-harrison.com</td>\n",
              "      <td>Customer service manager</td>\n",
              "      <td>132.207.160.22</td>\n",
              "      <td>de</td>\n",
              "      <td>0.95</td>\n",
              "    </tr>\n",
              "    <tr>\n",
              "      <th>3</th>\n",
              "      <td>7780 Julia Fords\\nNew Stacy, WA 45798</td>\n",
              "      <td>36 vm</td>\n",
              "      <td>PM</td>\n",
              "      <td>Mozilla/5.0 (Macintosh; Intel Mac OS X 10_8_0 ...</td>\n",
              "      <td>Williams, Marshall and Buchanan</td>\n",
              "      <td>6011578504430710</td>\n",
              "      <td>02/24</td>\n",
              "      <td>384</td>\n",
              "      <td>Discover</td>\n",
              "      <td>brent16@olson-robinson.info</td>\n",
              "      <td>Drilling engineer</td>\n",
              "      <td>30.250.74.19</td>\n",
              "      <td>es</td>\n",
              "      <td>78.04</td>\n",
              "    </tr>\n",
              "    <tr>\n",
              "      <th>4</th>\n",
              "      <td>23012 Munoz Drive Suite 337\\nNew Cynthia, TX 5...</td>\n",
              "      <td>20 IE</td>\n",
              "      <td>AM</td>\n",
              "      <td>Opera/9.58.(X11; Linux x86_64; it-IT) Presto/2...</td>\n",
              "      <td>Brown, Watson and Andrews</td>\n",
              "      <td>6011456623207998</td>\n",
              "      <td>10/25</td>\n",
              "      <td>678</td>\n",
              "      <td>Diners Club / Carte Blanche</td>\n",
              "      <td>christopherwright@gmail.com</td>\n",
              "      <td>Fine artist</td>\n",
              "      <td>24.140.33.94</td>\n",
              "      <td>es</td>\n",
              "      <td>77.82</td>\n",
              "    </tr>\n",
              "    <tr>\n",
              "      <th>5</th>\n",
              "      <td>7502 Powell Mission Apt. 768\\nTravisland, VA 3...</td>\n",
              "      <td>21 XT</td>\n",
              "      <td>PM</td>\n",
              "      <td>Mozilla/5.0 (Macintosh; U; PPC Mac OS X 10_8_5...</td>\n",
              "      <td>Silva-Anderson</td>\n",
              "      <td>30246185196287</td>\n",
              "      <td>07/25</td>\n",
              "      <td>7169</td>\n",
              "      <td>Discover</td>\n",
              "      <td>ynguyen@gmail.com</td>\n",
              "      <td>Fish farm manager</td>\n",
              "      <td>55.96.152.147</td>\n",
              "      <td>ru</td>\n",
              "      <td>25.15</td>\n",
              "    </tr>\n",
              "    <tr>\n",
              "      <th>6</th>\n",
              "      <td>93971 Conway Causeway\\nAndersonburgh, AZ 75107</td>\n",
              "      <td>96 Xt</td>\n",
              "      <td>AM</td>\n",
              "      <td>Mozilla/5.0 (compatible; MSIE 7.0; Windows NT ...</td>\n",
              "      <td>Gibson and Sons</td>\n",
              "      <td>6011398782655569</td>\n",
              "      <td>07/24</td>\n",
              "      <td>714</td>\n",
              "      <td>VISA 16 digit</td>\n",
              "      <td>olivia04@yahoo.com</td>\n",
              "      <td>Dancer</td>\n",
              "      <td>127.252.144.18</td>\n",
              "      <td>de</td>\n",
              "      <td>88.56</td>\n",
              "    </tr>\n",
              "    <tr>\n",
              "      <th>7</th>\n",
              "      <td>260 Rachel Plains Suite 366\\nCastroberg, WV 24...</td>\n",
              "      <td>96 pG</td>\n",
              "      <td>PM</td>\n",
              "      <td>Mozilla/5.0 (X11; Linux i686) AppleWebKit/5350...</td>\n",
              "      <td>Marshall-Collins</td>\n",
              "      <td>561252141909</td>\n",
              "      <td>06/25</td>\n",
              "      <td>256</td>\n",
              "      <td>VISA 13 digit</td>\n",
              "      <td>phillip48@parks.info</td>\n",
              "      <td>Event organiser</td>\n",
              "      <td>224.247.97.150</td>\n",
              "      <td>pt</td>\n",
              "      <td>44.25</td>\n",
              "    </tr>\n",
              "    <tr>\n",
              "      <th>8</th>\n",
              "      <td>2129 Dylan Burg\\nNew Michelle, ME 28650</td>\n",
              "      <td>45 JN</td>\n",
              "      <td>PM</td>\n",
              "      <td>Mozilla/5.0 (Macintosh; U; Intel Mac OS X 10_7...</td>\n",
              "      <td>Galloway and Sons</td>\n",
              "      <td>180041795790001</td>\n",
              "      <td>04/24</td>\n",
              "      <td>899</td>\n",
              "      <td>JCB 16 digit</td>\n",
              "      <td>kdavis@rasmussen.com</td>\n",
              "      <td>Financial manager</td>\n",
              "      <td>146.234.201.229</td>\n",
              "      <td>ru</td>\n",
              "      <td>59.54</td>\n",
              "    </tr>\n",
              "    <tr>\n",
              "      <th>9</th>\n",
              "      <td>3795 Dawson Extensions\\nLake Tinafort, ID 88739</td>\n",
              "      <td>15 Ug</td>\n",
              "      <td>AM</td>\n",
              "      <td>Mozilla/5.0 (X11; Linux i686; rv:1.9.7.20) Gec...</td>\n",
              "      <td>Rivera, Buchanan and Ramirez</td>\n",
              "      <td>4396283918371</td>\n",
              "      <td>01/17</td>\n",
              "      <td>931</td>\n",
              "      <td>American Express</td>\n",
              "      <td>qcoleman@hunt-huerta.com</td>\n",
              "      <td>Forensic scientist</td>\n",
              "      <td>236.198.199.8</td>\n",
              "      <td>zh</td>\n",
              "      <td>95.63</td>\n",
              "    </tr>\n",
              "  </tbody>\n",
              "</table>\n",
              "</div>\n",
              "      <button class=\"colab-df-convert\" onclick=\"convertToInteractive('df-1c87f59c-285b-4a1e-b8c8-739c1c261bd9')\"\n",
              "              title=\"Convert this dataframe to an interactive table.\"\n",
              "              style=\"display:none;\">\n",
              "\n",
              "  <svg xmlns=\"http://www.w3.org/2000/svg\" height=\"24px\"viewBox=\"0 0 24 24\"\n",
              "       width=\"24px\">\n",
              "    <path d=\"M0 0h24v24H0V0z\" fill=\"none\"/>\n",
              "    <path d=\"M18.56 5.44l.94 2.06.94-2.06 2.06-.94-2.06-.94-.94-2.06-.94 2.06-2.06.94zm-11 1L8.5 8.5l.94-2.06 2.06-.94-2.06-.94L8.5 2.5l-.94 2.06-2.06.94zm10 10l.94 2.06.94-2.06 2.06-.94-2.06-.94-.94-2.06-.94 2.06-2.06.94z\"/><path d=\"M17.41 7.96l-1.37-1.37c-.4-.4-.92-.59-1.43-.59-.52 0-1.04.2-1.43.59L10.3 9.45l-7.72 7.72c-.78.78-.78 2.05 0 2.83L4 21.41c.39.39.9.59 1.41.59.51 0 1.02-.2 1.41-.59l7.78-7.78 2.81-2.81c.8-.78.8-2.07 0-2.86zM5.41 20L4 18.59l7.72-7.72 1.47 1.35L5.41 20z\"/>\n",
              "  </svg>\n",
              "      </button>\n",
              "\n",
              "\n",
              "\n",
              "    <div id=\"df-e541b63e-e039-4a82-bb51-575a50f1643b\">\n",
              "      <button class=\"colab-df-quickchart\" onclick=\"quickchart('df-e541b63e-e039-4a82-bb51-575a50f1643b')\"\n",
              "              title=\"Suggest charts.\"\n",
              "              style=\"display:none;\">\n",
              "\n",
              "<svg xmlns=\"http://www.w3.org/2000/svg\" height=\"24px\"viewBox=\"0 0 24 24\"\n",
              "     width=\"24px\">\n",
              "    <g>\n",
              "        <path d=\"M19 3H5c-1.1 0-2 .9-2 2v14c0 1.1.9 2 2 2h14c1.1 0 2-.9 2-2V5c0-1.1-.9-2-2-2zM9 17H7v-7h2v7zm4 0h-2V7h2v10zm4 0h-2v-4h2v4z\"/>\n",
              "    </g>\n",
              "</svg>\n",
              "      </button>\n",
              "    </div>\n",
              "\n",
              "<style>\n",
              "  .colab-df-quickchart {\n",
              "    background-color: #E8F0FE;\n",
              "    border: none;\n",
              "    border-radius: 50%;\n",
              "    cursor: pointer;\n",
              "    display: none;\n",
              "    fill: #1967D2;\n",
              "    height: 32px;\n",
              "    padding: 0 0 0 0;\n",
              "    width: 32px;\n",
              "  }\n",
              "\n",
              "  .colab-df-quickchart:hover {\n",
              "    background-color: #E2EBFA;\n",
              "    box-shadow: 0px 1px 2px rgba(60, 64, 67, 0.3), 0px 1px 3px 1px rgba(60, 64, 67, 0.15);\n",
              "    fill: #174EA6;\n",
              "  }\n",
              "\n",
              "  [theme=dark] .colab-df-quickchart {\n",
              "    background-color: #3B4455;\n",
              "    fill: #D2E3FC;\n",
              "  }\n",
              "\n",
              "  [theme=dark] .colab-df-quickchart:hover {\n",
              "    background-color: #434B5C;\n",
              "    box-shadow: 0px 1px 3px 1px rgba(0, 0, 0, 0.15);\n",
              "    filter: drop-shadow(0px 1px 2px rgba(0, 0, 0, 0.3));\n",
              "    fill: #FFFFFF;\n",
              "  }\n",
              "</style>\n",
              "\n",
              "    <script>\n",
              "      async function quickchart(key) {\n",
              "        const containerElement = document.querySelector('#' + key);\n",
              "        const charts = await google.colab.kernel.invokeFunction(\n",
              "            'suggestCharts', [key], {});\n",
              "      }\n",
              "    </script>\n",
              "\n",
              "      <script>\n",
              "\n",
              "function displayQuickchartButton(domScope) {\n",
              "  let quickchartButtonEl =\n",
              "    domScope.querySelector('#df-e541b63e-e039-4a82-bb51-575a50f1643b button.colab-df-quickchart');\n",
              "  quickchartButtonEl.style.display =\n",
              "    google.colab.kernel.accessAllowed ? 'block' : 'none';\n",
              "}\n",
              "\n",
              "        displayQuickchartButton(document);\n",
              "      </script>\n",
              "      <style>\n",
              "    .colab-df-container {\n",
              "      display:flex;\n",
              "      flex-wrap:wrap;\n",
              "      gap: 12px;\n",
              "    }\n",
              "\n",
              "    .colab-df-convert {\n",
              "      background-color: #E8F0FE;\n",
              "      border: none;\n",
              "      border-radius: 50%;\n",
              "      cursor: pointer;\n",
              "      display: none;\n",
              "      fill: #1967D2;\n",
              "      height: 32px;\n",
              "      padding: 0 0 0 0;\n",
              "      width: 32px;\n",
              "    }\n",
              "\n",
              "    .colab-df-convert:hover {\n",
              "      background-color: #E2EBFA;\n",
              "      box-shadow: 0px 1px 2px rgba(60, 64, 67, 0.3), 0px 1px 3px 1px rgba(60, 64, 67, 0.15);\n",
              "      fill: #174EA6;\n",
              "    }\n",
              "\n",
              "    [theme=dark] .colab-df-convert {\n",
              "      background-color: #3B4455;\n",
              "      fill: #D2E3FC;\n",
              "    }\n",
              "\n",
              "    [theme=dark] .colab-df-convert:hover {\n",
              "      background-color: #434B5C;\n",
              "      box-shadow: 0px 1px 3px 1px rgba(0, 0, 0, 0.15);\n",
              "      filter: drop-shadow(0px 1px 2px rgba(0, 0, 0, 0.3));\n",
              "      fill: #FFFFFF;\n",
              "    }\n",
              "  </style>\n",
              "\n",
              "      <script>\n",
              "        const buttonEl =\n",
              "          document.querySelector('#df-1c87f59c-285b-4a1e-b8c8-739c1c261bd9 button.colab-df-convert');\n",
              "        buttonEl.style.display =\n",
              "          google.colab.kernel.accessAllowed ? 'block' : 'none';\n",
              "\n",
              "        async function convertToInteractive(key) {\n",
              "          const element = document.querySelector('#df-1c87f59c-285b-4a1e-b8c8-739c1c261bd9');\n",
              "          const dataTable =\n",
              "            await google.colab.kernel.invokeFunction('convertToInteractive',\n",
              "                                                     [key], {});\n",
              "          if (!dataTable) return;\n",
              "\n",
              "          const docLinkHtml = 'Like what you see? Visit the ' +\n",
              "            '<a target=\"_blank\" href=https://colab.research.google.com/notebooks/data_table.ipynb>data table notebook</a>'\n",
              "            + ' to learn more about interactive tables.';\n",
              "          element.innerHTML = '';\n",
              "          dataTable['output_type'] = 'display_data';\n",
              "          await google.colab.output.renderOutput(dataTable, element);\n",
              "          const docLink = document.createElement('div');\n",
              "          docLink.innerHTML = docLinkHtml;\n",
              "          element.appendChild(docLink);\n",
              "        }\n",
              "      </script>\n",
              "    </div>\n",
              "  </div>\n"
            ]
          },
          "metadata": {},
          "execution_count": 4
        }
      ]
    },
    {
      "cell_type": "markdown",
      "source": [
        "**Display Last 10 Rows of the Dataset**"
      ],
      "metadata": {
        "id": "yT1tsqb3Biyf"
      }
    },
    {
      "cell_type": "code",
      "source": [
        "data.tail()"
      ],
      "metadata": {
        "colab": {
          "base_uri": "https://localhost:8080/",
          "height": 510
        },
        "id": "Lv1QCEWkAmfi",
        "outputId": "1c50d50c-8378-4b97-8752-b337110c3f29"
      },
      "execution_count": 5,
      "outputs": [
        {
          "output_type": "execute_result",
          "data": {
            "text/plain": [
              "                                                Address    Lot AM or PM  \\\n",
              "9995      966 Castaneda Locks\\nWest Juliafurt, CO 96415  92 XI       PM   \n",
              "9996  832 Curtis Dam Suite 785\\nNorth Edwardburgh, T...  41 JY       AM   \n",
              "9997              Unit 4434 Box 6343\\nDPO AE 28026-0283  74 Zh       AM   \n",
              "9998               0096 English Rest\\nRoystad, IA 12457  74 cL       PM   \n",
              "9999     40674 Barrett Stravenue\\nGrimesville, WI 79682  64 Hr       AM   \n",
              "\n",
              "                                           Browser Info  \\\n",
              "9995  Mozilla/5.0 (Windows NT 5.1) AppleWebKit/5352 ...   \n",
              "9996  Mozilla/5.0 (compatible; MSIE 9.0; Windows NT ...   \n",
              "9997  Mozilla/5.0 (Macintosh; U; Intel Mac OS X 10_7...   \n",
              "9998  Mozilla/5.0 (Macintosh; Intel Mac OS X 10_8_8;...   \n",
              "9999  Mozilla/5.0 (X11; Linux i686; rv:1.9.5.20) Gec...   \n",
              "\n",
              "                       Company       Credit Card CC Exp Date  \\\n",
              "9995             Randall-Sloan   342945015358701       03/22   \n",
              "9996  Hale, Collins and Wilson   210033169205009       07/25   \n",
              "9997              Anderson Ltd  6011539787356311       05/21   \n",
              "9998                  Cook Inc   180003348082930       11/17   \n",
              "9999                Greene Inc  4139972901927273       02/19   \n",
              "\n",
              "      CC Security Code       CC Provider                    Email  \\\n",
              "9995               838      JCB 15 digit   iscott@wade-garner.com   \n",
              "9996               207      JCB 16 digit       mary85@hotmail.com   \n",
              "9997                 1     VISA 16 digit        tyler16@gmail.com   \n",
              "9998               987  American Express  elizabethmoore@reid.net   \n",
              "9999               302      JCB 15 digit    rachelford@vaughn.com   \n",
              "\n",
              "                           Job       IP Address Language  Purchase Price  \n",
              "9995                Printmaker    29.73.197.114       it           82.21  \n",
              "9996           Energy engineer   121.133.168.51       pt           25.63  \n",
              "9997        Veterinary surgeon    156.210.0.254       el           83.98  \n",
              "9998  Local government officer     55.78.26.143       es           38.84  \n",
              "9999    Embryologist, clinical  176.119.198.199       el           67.59  "
            ],
            "text/html": [
              "\n",
              "\n",
              "  <div id=\"df-c3710cc5-17bf-4e94-b630-acc166e18d84\">\n",
              "    <div class=\"colab-df-container\">\n",
              "      <div>\n",
              "<style scoped>\n",
              "    .dataframe tbody tr th:only-of-type {\n",
              "        vertical-align: middle;\n",
              "    }\n",
              "\n",
              "    .dataframe tbody tr th {\n",
              "        vertical-align: top;\n",
              "    }\n",
              "\n",
              "    .dataframe thead th {\n",
              "        text-align: right;\n",
              "    }\n",
              "</style>\n",
              "<table border=\"1\" class=\"dataframe\">\n",
              "  <thead>\n",
              "    <tr style=\"text-align: right;\">\n",
              "      <th></th>\n",
              "      <th>Address</th>\n",
              "      <th>Lot</th>\n",
              "      <th>AM or PM</th>\n",
              "      <th>Browser Info</th>\n",
              "      <th>Company</th>\n",
              "      <th>Credit Card</th>\n",
              "      <th>CC Exp Date</th>\n",
              "      <th>CC Security Code</th>\n",
              "      <th>CC Provider</th>\n",
              "      <th>Email</th>\n",
              "      <th>Job</th>\n",
              "      <th>IP Address</th>\n",
              "      <th>Language</th>\n",
              "      <th>Purchase Price</th>\n",
              "    </tr>\n",
              "  </thead>\n",
              "  <tbody>\n",
              "    <tr>\n",
              "      <th>9995</th>\n",
              "      <td>966 Castaneda Locks\\nWest Juliafurt, CO 96415</td>\n",
              "      <td>92 XI</td>\n",
              "      <td>PM</td>\n",
              "      <td>Mozilla/5.0 (Windows NT 5.1) AppleWebKit/5352 ...</td>\n",
              "      <td>Randall-Sloan</td>\n",
              "      <td>342945015358701</td>\n",
              "      <td>03/22</td>\n",
              "      <td>838</td>\n",
              "      <td>JCB 15 digit</td>\n",
              "      <td>iscott@wade-garner.com</td>\n",
              "      <td>Printmaker</td>\n",
              "      <td>29.73.197.114</td>\n",
              "      <td>it</td>\n",
              "      <td>82.21</td>\n",
              "    </tr>\n",
              "    <tr>\n",
              "      <th>9996</th>\n",
              "      <td>832 Curtis Dam Suite 785\\nNorth Edwardburgh, T...</td>\n",
              "      <td>41 JY</td>\n",
              "      <td>AM</td>\n",
              "      <td>Mozilla/5.0 (compatible; MSIE 9.0; Windows NT ...</td>\n",
              "      <td>Hale, Collins and Wilson</td>\n",
              "      <td>210033169205009</td>\n",
              "      <td>07/25</td>\n",
              "      <td>207</td>\n",
              "      <td>JCB 16 digit</td>\n",
              "      <td>mary85@hotmail.com</td>\n",
              "      <td>Energy engineer</td>\n",
              "      <td>121.133.168.51</td>\n",
              "      <td>pt</td>\n",
              "      <td>25.63</td>\n",
              "    </tr>\n",
              "    <tr>\n",
              "      <th>9997</th>\n",
              "      <td>Unit 4434 Box 6343\\nDPO AE 28026-0283</td>\n",
              "      <td>74 Zh</td>\n",
              "      <td>AM</td>\n",
              "      <td>Mozilla/5.0 (Macintosh; U; Intel Mac OS X 10_7...</td>\n",
              "      <td>Anderson Ltd</td>\n",
              "      <td>6011539787356311</td>\n",
              "      <td>05/21</td>\n",
              "      <td>1</td>\n",
              "      <td>VISA 16 digit</td>\n",
              "      <td>tyler16@gmail.com</td>\n",
              "      <td>Veterinary surgeon</td>\n",
              "      <td>156.210.0.254</td>\n",
              "      <td>el</td>\n",
              "      <td>83.98</td>\n",
              "    </tr>\n",
              "    <tr>\n",
              "      <th>9998</th>\n",
              "      <td>0096 English Rest\\nRoystad, IA 12457</td>\n",
              "      <td>74 cL</td>\n",
              "      <td>PM</td>\n",
              "      <td>Mozilla/5.0 (Macintosh; Intel Mac OS X 10_8_8;...</td>\n",
              "      <td>Cook Inc</td>\n",
              "      <td>180003348082930</td>\n",
              "      <td>11/17</td>\n",
              "      <td>987</td>\n",
              "      <td>American Express</td>\n",
              "      <td>elizabethmoore@reid.net</td>\n",
              "      <td>Local government officer</td>\n",
              "      <td>55.78.26.143</td>\n",
              "      <td>es</td>\n",
              "      <td>38.84</td>\n",
              "    </tr>\n",
              "    <tr>\n",
              "      <th>9999</th>\n",
              "      <td>40674 Barrett Stravenue\\nGrimesville, WI 79682</td>\n",
              "      <td>64 Hr</td>\n",
              "      <td>AM</td>\n",
              "      <td>Mozilla/5.0 (X11; Linux i686; rv:1.9.5.20) Gec...</td>\n",
              "      <td>Greene Inc</td>\n",
              "      <td>4139972901927273</td>\n",
              "      <td>02/19</td>\n",
              "      <td>302</td>\n",
              "      <td>JCB 15 digit</td>\n",
              "      <td>rachelford@vaughn.com</td>\n",
              "      <td>Embryologist, clinical</td>\n",
              "      <td>176.119.198.199</td>\n",
              "      <td>el</td>\n",
              "      <td>67.59</td>\n",
              "    </tr>\n",
              "  </tbody>\n",
              "</table>\n",
              "</div>\n",
              "      <button class=\"colab-df-convert\" onclick=\"convertToInteractive('df-c3710cc5-17bf-4e94-b630-acc166e18d84')\"\n",
              "              title=\"Convert this dataframe to an interactive table.\"\n",
              "              style=\"display:none;\">\n",
              "\n",
              "  <svg xmlns=\"http://www.w3.org/2000/svg\" height=\"24px\"viewBox=\"0 0 24 24\"\n",
              "       width=\"24px\">\n",
              "    <path d=\"M0 0h24v24H0V0z\" fill=\"none\"/>\n",
              "    <path d=\"M18.56 5.44l.94 2.06.94-2.06 2.06-.94-2.06-.94-.94-2.06-.94 2.06-2.06.94zm-11 1L8.5 8.5l.94-2.06 2.06-.94-2.06-.94L8.5 2.5l-.94 2.06-2.06.94zm10 10l.94 2.06.94-2.06 2.06-.94-2.06-.94-.94-2.06-.94 2.06-2.06.94z\"/><path d=\"M17.41 7.96l-1.37-1.37c-.4-.4-.92-.59-1.43-.59-.52 0-1.04.2-1.43.59L10.3 9.45l-7.72 7.72c-.78.78-.78 2.05 0 2.83L4 21.41c.39.39.9.59 1.41.59.51 0 1.02-.2 1.41-.59l7.78-7.78 2.81-2.81c.8-.78.8-2.07 0-2.86zM5.41 20L4 18.59l7.72-7.72 1.47 1.35L5.41 20z\"/>\n",
              "  </svg>\n",
              "      </button>\n",
              "\n",
              "\n",
              "\n",
              "    <div id=\"df-9d66da6e-24b7-42fb-9961-c26c37de4b35\">\n",
              "      <button class=\"colab-df-quickchart\" onclick=\"quickchart('df-9d66da6e-24b7-42fb-9961-c26c37de4b35')\"\n",
              "              title=\"Suggest charts.\"\n",
              "              style=\"display:none;\">\n",
              "\n",
              "<svg xmlns=\"http://www.w3.org/2000/svg\" height=\"24px\"viewBox=\"0 0 24 24\"\n",
              "     width=\"24px\">\n",
              "    <g>\n",
              "        <path d=\"M19 3H5c-1.1 0-2 .9-2 2v14c0 1.1.9 2 2 2h14c1.1 0 2-.9 2-2V5c0-1.1-.9-2-2-2zM9 17H7v-7h2v7zm4 0h-2V7h2v10zm4 0h-2v-4h2v4z\"/>\n",
              "    </g>\n",
              "</svg>\n",
              "      </button>\n",
              "    </div>\n",
              "\n",
              "<style>\n",
              "  .colab-df-quickchart {\n",
              "    background-color: #E8F0FE;\n",
              "    border: none;\n",
              "    border-radius: 50%;\n",
              "    cursor: pointer;\n",
              "    display: none;\n",
              "    fill: #1967D2;\n",
              "    height: 32px;\n",
              "    padding: 0 0 0 0;\n",
              "    width: 32px;\n",
              "  }\n",
              "\n",
              "  .colab-df-quickchart:hover {\n",
              "    background-color: #E2EBFA;\n",
              "    box-shadow: 0px 1px 2px rgba(60, 64, 67, 0.3), 0px 1px 3px 1px rgba(60, 64, 67, 0.15);\n",
              "    fill: #174EA6;\n",
              "  }\n",
              "\n",
              "  [theme=dark] .colab-df-quickchart {\n",
              "    background-color: #3B4455;\n",
              "    fill: #D2E3FC;\n",
              "  }\n",
              "\n",
              "  [theme=dark] .colab-df-quickchart:hover {\n",
              "    background-color: #434B5C;\n",
              "    box-shadow: 0px 1px 3px 1px rgba(0, 0, 0, 0.15);\n",
              "    filter: drop-shadow(0px 1px 2px rgba(0, 0, 0, 0.3));\n",
              "    fill: #FFFFFF;\n",
              "  }\n",
              "</style>\n",
              "\n",
              "    <script>\n",
              "      async function quickchart(key) {\n",
              "        const containerElement = document.querySelector('#' + key);\n",
              "        const charts = await google.colab.kernel.invokeFunction(\n",
              "            'suggestCharts', [key], {});\n",
              "      }\n",
              "    </script>\n",
              "\n",
              "      <script>\n",
              "\n",
              "function displayQuickchartButton(domScope) {\n",
              "  let quickchartButtonEl =\n",
              "    domScope.querySelector('#df-9d66da6e-24b7-42fb-9961-c26c37de4b35 button.colab-df-quickchart');\n",
              "  quickchartButtonEl.style.display =\n",
              "    google.colab.kernel.accessAllowed ? 'block' : 'none';\n",
              "}\n",
              "\n",
              "        displayQuickchartButton(document);\n",
              "      </script>\n",
              "      <style>\n",
              "    .colab-df-container {\n",
              "      display:flex;\n",
              "      flex-wrap:wrap;\n",
              "      gap: 12px;\n",
              "    }\n",
              "\n",
              "    .colab-df-convert {\n",
              "      background-color: #E8F0FE;\n",
              "      border: none;\n",
              "      border-radius: 50%;\n",
              "      cursor: pointer;\n",
              "      display: none;\n",
              "      fill: #1967D2;\n",
              "      height: 32px;\n",
              "      padding: 0 0 0 0;\n",
              "      width: 32px;\n",
              "    }\n",
              "\n",
              "    .colab-df-convert:hover {\n",
              "      background-color: #E2EBFA;\n",
              "      box-shadow: 0px 1px 2px rgba(60, 64, 67, 0.3), 0px 1px 3px 1px rgba(60, 64, 67, 0.15);\n",
              "      fill: #174EA6;\n",
              "    }\n",
              "\n",
              "    [theme=dark] .colab-df-convert {\n",
              "      background-color: #3B4455;\n",
              "      fill: #D2E3FC;\n",
              "    }\n",
              "\n",
              "    [theme=dark] .colab-df-convert:hover {\n",
              "      background-color: #434B5C;\n",
              "      box-shadow: 0px 1px 3px 1px rgba(0, 0, 0, 0.15);\n",
              "      filter: drop-shadow(0px 1px 2px rgba(0, 0, 0, 0.3));\n",
              "      fill: #FFFFFF;\n",
              "    }\n",
              "  </style>\n",
              "\n",
              "      <script>\n",
              "        const buttonEl =\n",
              "          document.querySelector('#df-c3710cc5-17bf-4e94-b630-acc166e18d84 button.colab-df-convert');\n",
              "        buttonEl.style.display =\n",
              "          google.colab.kernel.accessAllowed ? 'block' : 'none';\n",
              "\n",
              "        async function convertToInteractive(key) {\n",
              "          const element = document.querySelector('#df-c3710cc5-17bf-4e94-b630-acc166e18d84');\n",
              "          const dataTable =\n",
              "            await google.colab.kernel.invokeFunction('convertToInteractive',\n",
              "                                                     [key], {});\n",
              "          if (!dataTable) return;\n",
              "\n",
              "          const docLinkHtml = 'Like what you see? Visit the ' +\n",
              "            '<a target=\"_blank\" href=https://colab.research.google.com/notebooks/data_table.ipynb>data table notebook</a>'\n",
              "            + ' to learn more about interactive tables.';\n",
              "          element.innerHTML = '';\n",
              "          dataTable['output_type'] = 'display_data';\n",
              "          await google.colab.output.renderOutput(dataTable, element);\n",
              "          const docLink = document.createElement('div');\n",
              "          docLink.innerHTML = docLinkHtml;\n",
              "          element.appendChild(docLink);\n",
              "        }\n",
              "      </script>\n",
              "    </div>\n",
              "  </div>\n"
            ]
          },
          "metadata": {},
          "execution_count": 5
        }
      ]
    },
    {
      "cell_type": "markdown",
      "source": [
        "**Check DataType of each column**"
      ],
      "metadata": {
        "id": "CWscgFJWBuEn"
      }
    },
    {
      "cell_type": "code",
      "source": [
        "data.dtypes"
      ],
      "metadata": {
        "colab": {
          "base_uri": "https://localhost:8080/"
        },
        "id": "-O4lo-waAmjL",
        "outputId": "5e72d2a8-9d87-4f1d-bccb-b26e64d06d54"
      },
      "execution_count": 8,
      "outputs": [
        {
          "output_type": "execute_result",
          "data": {
            "text/plain": [
              "Address              object\n",
              "Lot                  object\n",
              "AM or PM             object\n",
              "Browser Info         object\n",
              "Company              object\n",
              "Credit Card           int64\n",
              "CC Exp Date          object\n",
              "CC Security Code      int64\n",
              "CC Provider          object\n",
              "Email                object\n",
              "Job                  object\n",
              "IP Address           object\n",
              "Language             object\n",
              "Purchase Price      float64\n",
              "dtype: object"
            ]
          },
          "metadata": {},
          "execution_count": 8
        }
      ]
    },
    {
      "cell_type": "markdown",
      "source": [
        "**Check Null Values of the Dataset**"
      ],
      "metadata": {
        "id": "4khXhB4fB_oU"
      }
    },
    {
      "cell_type": "code",
      "source": [
        "data.isnull().sum()"
      ],
      "metadata": {
        "colab": {
          "base_uri": "https://localhost:8080/"
        },
        "id": "NW9VU6l-Amkv",
        "outputId": "e1a60495-bd3a-48d7-e1fc-05ca717730fb"
      },
      "execution_count": 9,
      "outputs": [
        {
          "output_type": "execute_result",
          "data": {
            "text/plain": [
              "Address             0\n",
              "Lot                 0\n",
              "AM or PM            0\n",
              "Browser Info        0\n",
              "Company             0\n",
              "Credit Card         0\n",
              "CC Exp Date         0\n",
              "CC Security Code    0\n",
              "CC Provider         0\n",
              "Email               0\n",
              "Job                 0\n",
              "IP Address          0\n",
              "Language            0\n",
              "Purchase Price      0\n",
              "dtype: int64"
            ]
          },
          "metadata": {},
          "execution_count": 9
        }
      ]
    },
    {
      "cell_type": "markdown",
      "source": [
        "**Check Rows and Column in the Datset**"
      ],
      "metadata": {
        "id": "2SHA0OeKCOx2"
      }
    },
    {
      "cell_type": "code",
      "source": [
        "data.shape\n",
        "print(\"Number of Rows\",data.shape[0])\n",
        "print(\"Number of Columns\",data.shape[1])"
      ],
      "metadata": {
        "colab": {
          "base_uri": "https://localhost:8080/"
        },
        "id": "s56_OA-cAmnG",
        "outputId": "28dd901a-8109-4e9c-ef62-5225a966180a"
      },
      "execution_count": 11,
      "outputs": [
        {
          "output_type": "stream",
          "name": "stdout",
          "text": [
            "Number of Rows 10000\n",
            "Number of Columns 14\n"
          ]
        }
      ]
    },
    {
      "cell_type": "markdown",
      "source": [
        "**Highest and Lowest Purchase Price**"
      ],
      "metadata": {
        "id": "QwaBlDHaCl-_"
      }
    },
    {
      "cell_type": "code",
      "source": [
        "data.columns"
      ],
      "metadata": {
        "colab": {
          "base_uri": "https://localhost:8080/"
        },
        "id": "pCXRqSFUAmst",
        "outputId": "eebda9f7-e12a-4850-f68f-dd94dc3eda4f"
      },
      "execution_count": 12,
      "outputs": [
        {
          "output_type": "execute_result",
          "data": {
            "text/plain": [
              "Index(['Address', 'Lot', 'AM or PM', 'Browser Info', 'Company', 'Credit Card',\n",
              "       'CC Exp Date', 'CC Security Code', 'CC Provider', 'Email', 'Job',\n",
              "       'IP Address', 'Language', 'Purchase Price'],\n",
              "      dtype='object')"
            ]
          },
          "metadata": {},
          "execution_count": 12
        }
      ]
    },
    {
      "cell_type": "code",
      "source": [
        "data['Purchase Price'].max()"
      ],
      "metadata": {
        "colab": {
          "base_uri": "https://localhost:8080/"
        },
        "id": "9hxHDsfmAmuH",
        "outputId": "813e7ca0-b858-4d9b-9d70-8524d2466c6c"
      },
      "execution_count": 17,
      "outputs": [
        {
          "output_type": "execute_result",
          "data": {
            "text/plain": [
              "99.99"
            ]
          },
          "metadata": {},
          "execution_count": 17
        }
      ]
    },
    {
      "cell_type": "code",
      "source": [
        "data['Purchase Price'].min()"
      ],
      "metadata": {
        "colab": {
          "base_uri": "https://localhost:8080/"
        },
        "id": "dyaUr72hAmvl",
        "outputId": "261dd383-4281-4b44-f0f2-cb3b461f7544"
      },
      "execution_count": 18,
      "outputs": [
        {
          "output_type": "execute_result",
          "data": {
            "text/plain": [
              "0.0"
            ]
          },
          "metadata": {},
          "execution_count": 18
        }
      ]
    },
    {
      "cell_type": "markdown",
      "source": [
        "**Average Purchse Price **"
      ],
      "metadata": {
        "id": "D4n0hEC2DiE6"
      }
    },
    {
      "cell_type": "code",
      "source": [
        "data['Purchase Price'].mean()"
      ],
      "metadata": {
        "colab": {
          "base_uri": "https://localhost:8080/"
        },
        "id": "Zq-0g6_3Amw9",
        "outputId": "b92340eb-2da1-476e-c082-71f03f980b25"
      },
      "execution_count": 20,
      "outputs": [
        {
          "output_type": "execute_result",
          "data": {
            "text/plain": [
              "50.347302"
            ]
          },
          "metadata": {},
          "execution_count": 20
        }
      ]
    },
    {
      "cell_type": "markdown",
      "source": [
        "**How Many People have French\"fr\" as their language**"
      ],
      "metadata": {
        "id": "3iyxayijDwb_"
      }
    },
    {
      "cell_type": "code",
      "source": [
        "len(data[data['Language']=='fr'])"
      ],
      "metadata": {
        "colab": {
          "base_uri": "https://localhost:8080/"
        },
        "id": "X3-WNXSmAmzj",
        "outputId": "8d748812-3009-44fd-9af5-f49da24b647b"
      },
      "execution_count": 30,
      "outputs": [
        {
          "output_type": "execute_result",
          "data": {
            "text/plain": [
              "1097"
            ]
          },
          "metadata": {},
          "execution_count": 30
        }
      ]
    },
    {
      "cell_type": "markdown",
      "source": [
        "**Job Title Contains Engineer**"
      ],
      "metadata": {
        "id": "MBTA7RanFFcA"
      }
    },
    {
      "cell_type": "code",
      "source": [
        "len(data[data['Job'].str.contains('engineer',case = False)])"
      ],
      "metadata": {
        "colab": {
          "base_uri": "https://localhost:8080/"
        },
        "id": "nVkQbGyfF7Kn",
        "outputId": "cccb594a-08a5-4c76-91a8-49c16155ee1d"
      },
      "execution_count": 42,
      "outputs": [
        {
          "output_type": "execute_result",
          "data": {
            "text/plain": [
              "984"
            ]
          },
          "metadata": {},
          "execution_count": 42
        }
      ]
    },
    {
      "cell_type": "markdown",
      "source": [
        "**Find Email of the Person with Following ip address:**\n",
        "**132.207.160.22**"
      ],
      "metadata": {
        "id": "VjIv-JykGj3h"
      }
    },
    {
      "cell_type": "code",
      "source": [
        "data.columns"
      ],
      "metadata": {
        "colab": {
          "base_uri": "https://localhost:8080/"
        },
        "id": "dT0cerNiF7NP",
        "outputId": "4ae89738-6846-4fcc-f6c5-b81a0ab9ac4f"
      },
      "execution_count": 43,
      "outputs": [
        {
          "output_type": "execute_result",
          "data": {
            "text/plain": [
              "Index(['Address', 'Lot', 'AM or PM', 'Browser Info', 'Company', 'Credit Card',\n",
              "       'CC Exp Date', 'CC Security Code', 'CC Provider', 'Email', 'Job',\n",
              "       'IP Address', 'Language', 'Purchase Price'],\n",
              "      dtype='object')"
            ]
          },
          "metadata": {},
          "execution_count": 43
        }
      ]
    },
    {
      "cell_type": "code",
      "source": [
        "data[data['IP Address']=='132.207.160.22']['Email']"
      ],
      "metadata": {
        "colab": {
          "base_uri": "https://localhost:8080/"
        },
        "id": "uANzXun2F7Pr",
        "outputId": "e5f198d6-9dbf-4b3d-d701-afbe6f7ca1ca"
      },
      "execution_count": 46,
      "outputs": [
        {
          "output_type": "execute_result",
          "data": {
            "text/plain": [
              "2    amymiller@morales-harrison.com\n",
              "Name: Email, dtype: object"
            ]
          },
          "metadata": {},
          "execution_count": 46
        }
      ]
    },
    {
      "cell_type": "markdown",
      "source": [
        "**How Many People have Mastercard As Their Credit Card Provider And Made a Purchase above 50?**"
      ],
      "metadata": {
        "id": "NhVzpqGaHYPO"
      }
    },
    {
      "cell_type": "code",
      "source": [
        "len(data[(data['CC Provider']=='Mastercard') & (data['Purchase Price']>50)])"
      ],
      "metadata": {
        "colab": {
          "base_uri": "https://localhost:8080/"
        },
        "id": "DldmfdjEF7Ww",
        "outputId": "f37646e5-7730-4c1a-caa1-2090089428a1"
      },
      "execution_count": 54,
      "outputs": [
        {
          "output_type": "execute_result",
          "data": {
            "text/plain": [
              "405"
            ]
          },
          "metadata": {},
          "execution_count": 54
        }
      ]
    },
    {
      "cell_type": "markdown",
      "source": [
        "**Find the email of the Person with following credit card number:**\n",
        "**4664825258997302**"
      ],
      "metadata": {
        "id": "FaLojIt2JsU4"
      }
    },
    {
      "cell_type": "code",
      "source": [
        "data.columns"
      ],
      "metadata": {
        "colab": {
          "base_uri": "https://localhost:8080/"
        },
        "id": "Ng4Al3T0F7Yi",
        "outputId": "ff2f51db-bce6-44a7-8d25-478b64317509"
      },
      "execution_count": 55,
      "outputs": [
        {
          "output_type": "execute_result",
          "data": {
            "text/plain": [
              "Index(['Address', 'Lot', 'AM or PM', 'Browser Info', 'Company', 'Credit Card',\n",
              "       'CC Exp Date', 'CC Security Code', 'CC Provider', 'Email', 'Job',\n",
              "       'IP Address', 'Language', 'Purchase Price'],\n",
              "      dtype='object')"
            ]
          },
          "metadata": {},
          "execution_count": 55
        }
      ]
    },
    {
      "cell_type": "code",
      "source": [
        "data[data['Credit Card']==4664825258997302]['Email']"
      ],
      "metadata": {
        "colab": {
          "base_uri": "https://localhost:8080/"
        },
        "id": "GvDj2u1bF7d3",
        "outputId": "38753050-baec-44d2-fea3-ad6180cc6f0b"
      },
      "execution_count": 63,
      "outputs": [
        {
          "output_type": "execute_result",
          "data": {
            "text/plain": [
              "9992    bberry@wright.net\n",
              "Name: Email, dtype: object"
            ]
          },
          "metadata": {},
          "execution_count": 63
        }
      ]
    },
    {
      "cell_type": "markdown",
      "source": [
        "**How Many People Purchase During AM and How Many People Purchase during PM**"
      ],
      "metadata": {
        "id": "YhWEi8jsK3Ir"
      }
    },
    {
      "cell_type": "code",
      "source": [
        "data['AM or PM'].value_counts()"
      ],
      "metadata": {
        "colab": {
          "base_uri": "https://localhost:8080/"
        },
        "id": "NlKABfcDF7fm",
        "outputId": "ea01196d-f87a-4a0a-b0ab-41aa48640f0c"
      },
      "execution_count": 68,
      "outputs": [
        {
          "output_type": "execute_result",
          "data": {
            "text/plain": [
              "PM    5068\n",
              "AM    4932\n",
              "Name: AM or PM, dtype: int64"
            ]
          },
          "metadata": {},
          "execution_count": 68
        }
      ]
    },
    {
      "cell_type": "markdown",
      "source": [
        "**How many people have a credit card that expires in 2020**"
      ],
      "metadata": {
        "id": "omPTgmQwLdKd"
      }
    },
    {
      "cell_type": "code",
      "source": [
        "data.columns"
      ],
      "metadata": {
        "colab": {
          "base_uri": "https://localhost:8080/"
        },
        "id": "2gdmVzXjK00k",
        "outputId": "7426b956-13ce-4261-977b-05aabf57bbd3"
      },
      "execution_count": 69,
      "outputs": [
        {
          "output_type": "execute_result",
          "data": {
            "text/plain": [
              "Index(['Address', 'Lot', 'AM or PM', 'Browser Info', 'Company', 'Credit Card',\n",
              "       'CC Exp Date', 'CC Security Code', 'CC Provider', 'Email', 'Job',\n",
              "       'IP Address', 'Language', 'Purchase Price'],\n",
              "      dtype='object')"
            ]
          },
          "metadata": {},
          "execution_count": 69
        }
      ]
    },
    {
      "cell_type": "code",
      "source": [
        "data['CC Exp Date']"
      ],
      "metadata": {
        "colab": {
          "base_uri": "https://localhost:8080/"
        },
        "id": "TqX6XwhOK056",
        "outputId": "2d69086f-9fb6-42cf-a2d4-bec58fb9285b"
      },
      "execution_count": 73,
      "outputs": [
        {
          "output_type": "execute_result",
          "data": {
            "text/plain": [
              "0       02/20\n",
              "1       11/18\n",
              "2       08/19\n",
              "3       02/24\n",
              "4       10/25\n",
              "        ...  \n",
              "9995    03/22\n",
              "9996    07/25\n",
              "9997    05/21\n",
              "9998    11/17\n",
              "9999    02/19\n",
              "Name: CC Exp Date, Length: 10000, dtype: object"
            ]
          },
          "metadata": {},
          "execution_count": 73
        }
      ]
    },
    {
      "cell_type": "code",
      "source": [
        "def fun():\n",
        "  count=0\n",
        "  for date in data['CC Exp Date']:\n",
        "    if date.split('/')[1]=='20':\n",
        "      count=count+1\n",
        "  print(count)"
      ],
      "metadata": {
        "id": "c5uYM05zN2-U"
      },
      "execution_count": 97,
      "outputs": []
    },
    {
      "cell_type": "code",
      "source": [
        "fun()"
      ],
      "metadata": {
        "colab": {
          "base_uri": "https://localhost:8080/"
        },
        "id": "INcCYg-TN3DO",
        "outputId": "db1701a2-65d9-4495-853d-adbd89ae85c7"
      },
      "execution_count": 98,
      "outputs": [
        {
          "output_type": "stream",
          "name": "stdout",
          "text": [
            "988\n"
          ]
        }
      ]
    },
    {
      "cell_type": "markdown",
      "source": [
        "**Top Five most Popular Email Provider (e.g. gmail , yahoo)**"
      ],
      "metadata": {
        "id": "NMR9ZiEDPMA-"
      }
    },
    {
      "cell_type": "code",
      "source": [
        "list =[]\n",
        "for email in data['Email']:\n",
        "  list.append(email.split('@')[1])"
      ],
      "metadata": {
        "id": "bWP0IYfFN3FM"
      },
      "execution_count": 104,
      "outputs": []
    },
    {
      "cell_type": "code",
      "source": [
        "data['temp']=list"
      ],
      "metadata": {
        "id": "2ew84h0tN3IL"
      },
      "execution_count": 105,
      "outputs": []
    },
    {
      "cell_type": "code",
      "source": [
        "data.head()"
      ],
      "metadata": {
        "colab": {
          "base_uri": "https://localhost:8080/",
          "height": 652
        },
        "id": "lUDa03VeN3J8",
        "outputId": "ede3649d-4c2c-4733-8375-1eba37cb3e28"
      },
      "execution_count": 106,
      "outputs": [
        {
          "output_type": "execute_result",
          "data": {
            "text/plain": [
              "                                             Address    Lot AM or PM  \\\n",
              "0  16629 Pace Camp Apt. 448\\nAlexisborough, NE 77...  46 in       PM   \n",
              "1  9374 Jasmine Spurs Suite 508\\nSouth John, TN 8...  28 rn       PM   \n",
              "2                   Unit 0065 Box 5052\\nDPO AP 27450  94 vE       PM   \n",
              "3              7780 Julia Fords\\nNew Stacy, WA 45798  36 vm       PM   \n",
              "4  23012 Munoz Drive Suite 337\\nNew Cynthia, TX 5...  20 IE       AM   \n",
              "\n",
              "                                        Browser Info  \\\n",
              "0  Opera/9.56.(X11; Linux x86_64; sl-SI) Presto/2...   \n",
              "1  Opera/8.93.(Windows 98; Win 9x 4.90; en-US) Pr...   \n",
              "2  Mozilla/5.0 (compatible; MSIE 9.0; Windows NT ...   \n",
              "3  Mozilla/5.0 (Macintosh; Intel Mac OS X 10_8_0 ...   \n",
              "4  Opera/9.58.(X11; Linux x86_64; it-IT) Presto/2...   \n",
              "\n",
              "                           Company       Credit Card CC Exp Date  \\\n",
              "0                  Martinez-Herman  6011929061123406       02/20   \n",
              "1  Fletcher, Richards and Whitaker  3337758169645356       11/18   \n",
              "2       Simpson, Williams and Pham      675957666125       08/19   \n",
              "3  Williams, Marshall and Buchanan  6011578504430710       02/24   \n",
              "4        Brown, Watson and Andrews  6011456623207998       10/25   \n",
              "\n",
              "   CC Security Code                  CC Provider  \\\n",
              "0               900                 JCB 16 digit   \n",
              "1               561                   Mastercard   \n",
              "2               699                 JCB 16 digit   \n",
              "3               384                     Discover   \n",
              "4               678  Diners Club / Carte Blanche   \n",
              "\n",
              "                            Email                                     Job  \\\n",
              "0               pdunlap@yahoo.com  Scientist, product/process development   \n",
              "1              anthony41@reed.com                       Drilling engineer   \n",
              "2  amymiller@morales-harrison.com                Customer service manager   \n",
              "3     brent16@olson-robinson.info                       Drilling engineer   \n",
              "4     christopherwright@gmail.com                             Fine artist   \n",
              "\n",
              "        IP Address Language  Purchase Price                  temp  \n",
              "0  149.146.147.205       el           98.14             yahoo.com  \n",
              "1     15.160.41.51       fr           70.73              reed.com  \n",
              "2   132.207.160.22       de            0.95  morales-harrison.com  \n",
              "3     30.250.74.19       es           78.04   olson-robinson.info  \n",
              "4     24.140.33.94       es           77.82             gmail.com  "
            ],
            "text/html": [
              "\n",
              "\n",
              "  <div id=\"df-dd2b1b61-8703-4163-837e-d6c03fa98c30\">\n",
              "    <div class=\"colab-df-container\">\n",
              "      <div>\n",
              "<style scoped>\n",
              "    .dataframe tbody tr th:only-of-type {\n",
              "        vertical-align: middle;\n",
              "    }\n",
              "\n",
              "    .dataframe tbody tr th {\n",
              "        vertical-align: top;\n",
              "    }\n",
              "\n",
              "    .dataframe thead th {\n",
              "        text-align: right;\n",
              "    }\n",
              "</style>\n",
              "<table border=\"1\" class=\"dataframe\">\n",
              "  <thead>\n",
              "    <tr style=\"text-align: right;\">\n",
              "      <th></th>\n",
              "      <th>Address</th>\n",
              "      <th>Lot</th>\n",
              "      <th>AM or PM</th>\n",
              "      <th>Browser Info</th>\n",
              "      <th>Company</th>\n",
              "      <th>Credit Card</th>\n",
              "      <th>CC Exp Date</th>\n",
              "      <th>CC Security Code</th>\n",
              "      <th>CC Provider</th>\n",
              "      <th>Email</th>\n",
              "      <th>Job</th>\n",
              "      <th>IP Address</th>\n",
              "      <th>Language</th>\n",
              "      <th>Purchase Price</th>\n",
              "      <th>temp</th>\n",
              "    </tr>\n",
              "  </thead>\n",
              "  <tbody>\n",
              "    <tr>\n",
              "      <th>0</th>\n",
              "      <td>16629 Pace Camp Apt. 448\\nAlexisborough, NE 77...</td>\n",
              "      <td>46 in</td>\n",
              "      <td>PM</td>\n",
              "      <td>Opera/9.56.(X11; Linux x86_64; sl-SI) Presto/2...</td>\n",
              "      <td>Martinez-Herman</td>\n",
              "      <td>6011929061123406</td>\n",
              "      <td>02/20</td>\n",
              "      <td>900</td>\n",
              "      <td>JCB 16 digit</td>\n",
              "      <td>pdunlap@yahoo.com</td>\n",
              "      <td>Scientist, product/process development</td>\n",
              "      <td>149.146.147.205</td>\n",
              "      <td>el</td>\n",
              "      <td>98.14</td>\n",
              "      <td>yahoo.com</td>\n",
              "    </tr>\n",
              "    <tr>\n",
              "      <th>1</th>\n",
              "      <td>9374 Jasmine Spurs Suite 508\\nSouth John, TN 8...</td>\n",
              "      <td>28 rn</td>\n",
              "      <td>PM</td>\n",
              "      <td>Opera/8.93.(Windows 98; Win 9x 4.90; en-US) Pr...</td>\n",
              "      <td>Fletcher, Richards and Whitaker</td>\n",
              "      <td>3337758169645356</td>\n",
              "      <td>11/18</td>\n",
              "      <td>561</td>\n",
              "      <td>Mastercard</td>\n",
              "      <td>anthony41@reed.com</td>\n",
              "      <td>Drilling engineer</td>\n",
              "      <td>15.160.41.51</td>\n",
              "      <td>fr</td>\n",
              "      <td>70.73</td>\n",
              "      <td>reed.com</td>\n",
              "    </tr>\n",
              "    <tr>\n",
              "      <th>2</th>\n",
              "      <td>Unit 0065 Box 5052\\nDPO AP 27450</td>\n",
              "      <td>94 vE</td>\n",
              "      <td>PM</td>\n",
              "      <td>Mozilla/5.0 (compatible; MSIE 9.0; Windows NT ...</td>\n",
              "      <td>Simpson, Williams and Pham</td>\n",
              "      <td>675957666125</td>\n",
              "      <td>08/19</td>\n",
              "      <td>699</td>\n",
              "      <td>JCB 16 digit</td>\n",
              "      <td>amymiller@morales-harrison.com</td>\n",
              "      <td>Customer service manager</td>\n",
              "      <td>132.207.160.22</td>\n",
              "      <td>de</td>\n",
              "      <td>0.95</td>\n",
              "      <td>morales-harrison.com</td>\n",
              "    </tr>\n",
              "    <tr>\n",
              "      <th>3</th>\n",
              "      <td>7780 Julia Fords\\nNew Stacy, WA 45798</td>\n",
              "      <td>36 vm</td>\n",
              "      <td>PM</td>\n",
              "      <td>Mozilla/5.0 (Macintosh; Intel Mac OS X 10_8_0 ...</td>\n",
              "      <td>Williams, Marshall and Buchanan</td>\n",
              "      <td>6011578504430710</td>\n",
              "      <td>02/24</td>\n",
              "      <td>384</td>\n",
              "      <td>Discover</td>\n",
              "      <td>brent16@olson-robinson.info</td>\n",
              "      <td>Drilling engineer</td>\n",
              "      <td>30.250.74.19</td>\n",
              "      <td>es</td>\n",
              "      <td>78.04</td>\n",
              "      <td>olson-robinson.info</td>\n",
              "    </tr>\n",
              "    <tr>\n",
              "      <th>4</th>\n",
              "      <td>23012 Munoz Drive Suite 337\\nNew Cynthia, TX 5...</td>\n",
              "      <td>20 IE</td>\n",
              "      <td>AM</td>\n",
              "      <td>Opera/9.58.(X11; Linux x86_64; it-IT) Presto/2...</td>\n",
              "      <td>Brown, Watson and Andrews</td>\n",
              "      <td>6011456623207998</td>\n",
              "      <td>10/25</td>\n",
              "      <td>678</td>\n",
              "      <td>Diners Club / Carte Blanche</td>\n",
              "      <td>christopherwright@gmail.com</td>\n",
              "      <td>Fine artist</td>\n",
              "      <td>24.140.33.94</td>\n",
              "      <td>es</td>\n",
              "      <td>77.82</td>\n",
              "      <td>gmail.com</td>\n",
              "    </tr>\n",
              "  </tbody>\n",
              "</table>\n",
              "</div>\n",
              "      <button class=\"colab-df-convert\" onclick=\"convertToInteractive('df-dd2b1b61-8703-4163-837e-d6c03fa98c30')\"\n",
              "              title=\"Convert this dataframe to an interactive table.\"\n",
              "              style=\"display:none;\">\n",
              "\n",
              "  <svg xmlns=\"http://www.w3.org/2000/svg\" height=\"24px\"viewBox=\"0 0 24 24\"\n",
              "       width=\"24px\">\n",
              "    <path d=\"M0 0h24v24H0V0z\" fill=\"none\"/>\n",
              "    <path d=\"M18.56 5.44l.94 2.06.94-2.06 2.06-.94-2.06-.94-.94-2.06-.94 2.06-2.06.94zm-11 1L8.5 8.5l.94-2.06 2.06-.94-2.06-.94L8.5 2.5l-.94 2.06-2.06.94zm10 10l.94 2.06.94-2.06 2.06-.94-2.06-.94-.94-2.06-.94 2.06-2.06.94z\"/><path d=\"M17.41 7.96l-1.37-1.37c-.4-.4-.92-.59-1.43-.59-.52 0-1.04.2-1.43.59L10.3 9.45l-7.72 7.72c-.78.78-.78 2.05 0 2.83L4 21.41c.39.39.9.59 1.41.59.51 0 1.02-.2 1.41-.59l7.78-7.78 2.81-2.81c.8-.78.8-2.07 0-2.86zM5.41 20L4 18.59l7.72-7.72 1.47 1.35L5.41 20z\"/>\n",
              "  </svg>\n",
              "      </button>\n",
              "\n",
              "\n",
              "\n",
              "    <div id=\"df-c947f3bc-b734-4aa2-a01e-8870fae18f74\">\n",
              "      <button class=\"colab-df-quickchart\" onclick=\"quickchart('df-c947f3bc-b734-4aa2-a01e-8870fae18f74')\"\n",
              "              title=\"Suggest charts.\"\n",
              "              style=\"display:none;\">\n",
              "\n",
              "<svg xmlns=\"http://www.w3.org/2000/svg\" height=\"24px\"viewBox=\"0 0 24 24\"\n",
              "     width=\"24px\">\n",
              "    <g>\n",
              "        <path d=\"M19 3H5c-1.1 0-2 .9-2 2v14c0 1.1.9 2 2 2h14c1.1 0 2-.9 2-2V5c0-1.1-.9-2-2-2zM9 17H7v-7h2v7zm4 0h-2V7h2v10zm4 0h-2v-4h2v4z\"/>\n",
              "    </g>\n",
              "</svg>\n",
              "      </button>\n",
              "    </div>\n",
              "\n",
              "<style>\n",
              "  .colab-df-quickchart {\n",
              "    background-color: #E8F0FE;\n",
              "    border: none;\n",
              "    border-radius: 50%;\n",
              "    cursor: pointer;\n",
              "    display: none;\n",
              "    fill: #1967D2;\n",
              "    height: 32px;\n",
              "    padding: 0 0 0 0;\n",
              "    width: 32px;\n",
              "  }\n",
              "\n",
              "  .colab-df-quickchart:hover {\n",
              "    background-color: #E2EBFA;\n",
              "    box-shadow: 0px 1px 2px rgba(60, 64, 67, 0.3), 0px 1px 3px 1px rgba(60, 64, 67, 0.15);\n",
              "    fill: #174EA6;\n",
              "  }\n",
              "\n",
              "  [theme=dark] .colab-df-quickchart {\n",
              "    background-color: #3B4455;\n",
              "    fill: #D2E3FC;\n",
              "  }\n",
              "\n",
              "  [theme=dark] .colab-df-quickchart:hover {\n",
              "    background-color: #434B5C;\n",
              "    box-shadow: 0px 1px 3px 1px rgba(0, 0, 0, 0.15);\n",
              "    filter: drop-shadow(0px 1px 2px rgba(0, 0, 0, 0.3));\n",
              "    fill: #FFFFFF;\n",
              "  }\n",
              "</style>\n",
              "\n",
              "    <script>\n",
              "      async function quickchart(key) {\n",
              "        const containerElement = document.querySelector('#' + key);\n",
              "        const charts = await google.colab.kernel.invokeFunction(\n",
              "            'suggestCharts', [key], {});\n",
              "      }\n",
              "    </script>\n",
              "\n",
              "      <script>\n",
              "\n",
              "function displayQuickchartButton(domScope) {\n",
              "  let quickchartButtonEl =\n",
              "    domScope.querySelector('#df-c947f3bc-b734-4aa2-a01e-8870fae18f74 button.colab-df-quickchart');\n",
              "  quickchartButtonEl.style.display =\n",
              "    google.colab.kernel.accessAllowed ? 'block' : 'none';\n",
              "}\n",
              "\n",
              "        displayQuickchartButton(document);\n",
              "      </script>\n",
              "      <style>\n",
              "    .colab-df-container {\n",
              "      display:flex;\n",
              "      flex-wrap:wrap;\n",
              "      gap: 12px;\n",
              "    }\n",
              "\n",
              "    .colab-df-convert {\n",
              "      background-color: #E8F0FE;\n",
              "      border: none;\n",
              "      border-radius: 50%;\n",
              "      cursor: pointer;\n",
              "      display: none;\n",
              "      fill: #1967D2;\n",
              "      height: 32px;\n",
              "      padding: 0 0 0 0;\n",
              "      width: 32px;\n",
              "    }\n",
              "\n",
              "    .colab-df-convert:hover {\n",
              "      background-color: #E2EBFA;\n",
              "      box-shadow: 0px 1px 2px rgba(60, 64, 67, 0.3), 0px 1px 3px 1px rgba(60, 64, 67, 0.15);\n",
              "      fill: #174EA6;\n",
              "    }\n",
              "\n",
              "    [theme=dark] .colab-df-convert {\n",
              "      background-color: #3B4455;\n",
              "      fill: #D2E3FC;\n",
              "    }\n",
              "\n",
              "    [theme=dark] .colab-df-convert:hover {\n",
              "      background-color: #434B5C;\n",
              "      box-shadow: 0px 1px 3px 1px rgba(0, 0, 0, 0.15);\n",
              "      filter: drop-shadow(0px 1px 2px rgba(0, 0, 0, 0.3));\n",
              "      fill: #FFFFFF;\n",
              "    }\n",
              "  </style>\n",
              "\n",
              "      <script>\n",
              "        const buttonEl =\n",
              "          document.querySelector('#df-dd2b1b61-8703-4163-837e-d6c03fa98c30 button.colab-df-convert');\n",
              "        buttonEl.style.display =\n",
              "          google.colab.kernel.accessAllowed ? 'block' : 'none';\n",
              "\n",
              "        async function convertToInteractive(key) {\n",
              "          const element = document.querySelector('#df-dd2b1b61-8703-4163-837e-d6c03fa98c30');\n",
              "          const dataTable =\n",
              "            await google.colab.kernel.invokeFunction('convertToInteractive',\n",
              "                                                     [key], {});\n",
              "          if (!dataTable) return;\n",
              "\n",
              "          const docLinkHtml = 'Like what you see? Visit the ' +\n",
              "            '<a target=\"_blank\" href=https://colab.research.google.com/notebooks/data_table.ipynb>data table notebook</a>'\n",
              "            + ' to learn more about interactive tables.';\n",
              "          element.innerHTML = '';\n",
              "          dataTable['output_type'] = 'display_data';\n",
              "          await google.colab.output.renderOutput(dataTable, element);\n",
              "          const docLink = document.createElement('div');\n",
              "          docLink.innerHTML = docLinkHtml;\n",
              "          element.appendChild(docLink);\n",
              "        }\n",
              "      </script>\n",
              "    </div>\n",
              "  </div>\n"
            ]
          },
          "metadata": {},
          "execution_count": 106
        }
      ]
    },
    {
      "cell_type": "code",
      "source": [
        "data['temp'].value_counts().head()"
      ],
      "metadata": {
        "colab": {
          "base_uri": "https://localhost:8080/"
        },
        "id": "svDjz0ErN3PM",
        "outputId": "194cb52c-6651-4276-c0c8-67371e58f325"
      },
      "execution_count": 110,
      "outputs": [
        {
          "output_type": "execute_result",
          "data": {
            "text/plain": [
              "hotmail.com     1638\n",
              "yahoo.com       1616\n",
              "gmail.com       1605\n",
              "smith.com         42\n",
              "williams.com      37\n",
              "Name: temp, dtype: int64"
            ]
          },
          "metadata": {},
          "execution_count": 110
        }
      ]
    },
    {
      "cell_type": "code",
      "source": [
        "data['Email'].apply(lambda x : x.split('@')[1]).value_counts().head()"
      ],
      "metadata": {
        "colab": {
          "base_uri": "https://localhost:8080/"
        },
        "id": "1wp-oeCCQ3kO",
        "outputId": "48fc5a5a-b8ec-4111-e13e-d5f05f85bd51"
      },
      "execution_count": 112,
      "outputs": [
        {
          "output_type": "execute_result",
          "data": {
            "text/plain": [
              "hotmail.com     1638\n",
              "yahoo.com       1616\n",
              "gmail.com       1605\n",
              "smith.com         42\n",
              "williams.com      37\n",
              "Name: Email, dtype: int64"
            ]
          },
          "metadata": {},
          "execution_count": 112
        }
      ]
    },
    {
      "cell_type": "markdown",
      "source": [
        "**Thank You**"
      ],
      "metadata": {
        "id": "8472DTsfRhcm"
      }
    }
  ]
}